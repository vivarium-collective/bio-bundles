{
 "cells": [
  {
   "cell_type": "code",
   "execution_count": 1,
   "id": "d2ffba96ef510c51",
   "metadata": {},
   "outputs": [],
   "source": [
    "from process_bigraph import ProcessTypes\n",
    "\n",
    "CORE = ProcessTypes()"
   ]
  },
  {
   "cell_type": "code",
   "execution_count": 2,
   "id": "initial_id",
   "metadata": {},
   "outputs": [],
   "source": [
    "import warnings\n",
    "from basico import * \n",
    "from process_bigraph import Process\n",
    "\n",
    "\n",
    "warnings.filterwarnings(\"ignore\", category=FutureWarning)\n",
    "\n",
    "\n",
    "class ODECopasi(Process):\n",
    "    config_schema = {\n",
    "        'model_file': 'string'\n",
    "    }\n",
    "\n",
    "    def __init__(self, config=None, core=CORE):\n",
    "        super().__init__(config, core)\n",
    "        self.model = load_model(self.config['model_file'])\n",
    "        self.reaction_names = get_reactions(model=self.model).index.tolist()\n",
    "        self.species_names = get_species(model=self.model).index.tolist()\n",
    "\n",
    "    def initial_state(self):\n",
    "        initial_concentrations = {\n",
    "            species_name: get_species(species_name, model=self.model).initial_concentration[0]\n",
    "            for species_name in self.species_names\n",
    "        }\n",
    "\n",
    "        initial_derivatives = {\n",
    "            rxn_id: get_reactions(rxn_id, model=self.model).flux[0]\n",
    "            for rxn_id in self.reaction_names\n",
    "        }\n",
    "\n",
    "        return {\n",
    "            'species_concentrations': initial_concentrations,\n",
    "            'reaction_fluxes': initial_derivatives,\n",
    "            'time': 0.0\n",
    "        }\n",
    "\n",
    "    def inputs(self):\n",
    "        concentrations_type = {\n",
    "            name: 'float' for name in self.species_names\n",
    "        }\n",
    "        return {\n",
    "            'species_concentrations': concentrations_type,\n",
    "            'time': 'float'\n",
    "        }\n",
    "\n",
    "    def outputs(self):\n",
    "        concentrations_type = {\n",
    "            name: 'float' for name in self.species_names\n",
    "        }\n",
    "\n",
    "        reaction_fluxes_type = {\n",
    "            reaction_name: 'float' for reaction_name in self.reaction_names\n",
    "        }\n",
    "\n",
    "        return {\n",
    "            'species_concentrations': concentrations_type,\n",
    "            'reaction_fluxes': reaction_fluxes_type,\n",
    "            'time': 'float'\n",
    "        }\n",
    "\n",
    "    def update(self, inputs, interval):\n",
    "        for cat_id, value in inputs['species_concentrations'].items():\n",
    "            set_type = 'concentration'\n",
    "            species_config = {\n",
    "                'name': cat_id,\n",
    "                'model': self.model,\n",
    "                set_type: value\n",
    "            }\n",
    "            set_species(**species_config)\n",
    "\n",
    "        # run model for \"interval\" length; we only want the state at the end\n",
    "        tc = run_time_course(\n",
    "            start_time=inputs['time'],\n",
    "            duration=interval,\n",
    "            update_model=True,\n",
    "            model=self.model\n",
    "        )\n",
    "\n",
    "        results = {'time': interval}\n",
    "        results['species_concentrations'] = {\n",
    "            mol_id: float(get_species(\n",
    "                name=mol_id,\n",
    "                exact=True,\n",
    "                model=self.model\n",
    "            ).concentration[0])\n",
    "            for mol_id in self.species_names\n",
    "        }\n",
    "\n",
    "        results['reaction_fluxes'] = {\n",
    "            rxn_id: float(get_reactions(\n",
    "                name=rxn_id,\n",
    "                model=self.model\n",
    "            ).flux[0])\n",
    "            for rxn_id in self.reaction_names\n",
    "        }\n",
    "\n",
    "        return results\n",
    "\n",
    "\n",
    "CORE.process_registry.register('ode-copasi', ODECopasi)"
   ]
  },
  {
   "cell_type": "code",
   "execution_count": 3,
   "id": "b71839cb4a167469",
   "metadata": {},
   "outputs": [
    {
     "ename": "ImportError",
     "evalue": "cannot import name 'object' from 'numpy' (/Users/alexanderpatrie/Library/Caches/pypoetry/virtualenvs/bio-bundles-WKcrZPME-py3.10/lib/python3.10/site-packages/numpy/__init__.py)",
     "output_type": "error",
     "traceback": [
      "\u001b[0;31m---------------------------------------------------------------------------\u001b[0m",
      "\u001b[0;31mImportError\u001b[0m                               Traceback (most recent call last)",
      "Cell \u001b[0;32mIn[3], line 5\u001b[0m\n\u001b[1;32m      2\u001b[0m \u001b[38;5;28;01mimport\u001b[39;00m \u001b[38;5;21;01mos\u001b[39;00m\n\u001b[1;32m      3\u001b[0m \u001b[38;5;28;01mfrom\u001b[39;00m \u001b[38;5;21;01mpathlib\u001b[39;00m \u001b[38;5;28;01mimport\u001b[39;00m Path\n\u001b[0;32m----> 5\u001b[0m \u001b[38;5;28;01mimport\u001b[39;00m \u001b[38;5;21;01mcobra\u001b[39;00m\n\u001b[1;32m      6\u001b[0m \u001b[38;5;28;01mfrom\u001b[39;00m \u001b[38;5;21;01mcobra\u001b[39;00m\u001b[38;5;21;01m.\u001b[39;00m\u001b[38;5;21;01mio\u001b[39;00m \u001b[38;5;28;01mimport\u001b[39;00m read_sbml_model\n\u001b[1;32m      7\u001b[0m \u001b[38;5;28;01mfrom\u001b[39;00m \u001b[38;5;21;01mprocess_bigraph\u001b[39;00m \u001b[38;5;28;01mimport\u001b[39;00m Process, Composite\n",
      "File \u001b[0;32m~/Library/Caches/pypoetry/virtualenvs/bio-bundles-WKcrZPME-py3.10/lib/python3.10/site-packages/cobra/__init__.py:17\u001b[0m\n\u001b[1;32m      5\u001b[0m \u001b[38;5;28;01mfrom\u001b[39;00m \u001b[38;5;21;01mcobra\u001b[39;00m\u001b[38;5;21;01m.\u001b[39;00m\u001b[38;5;21;01mcore\u001b[39;00m \u001b[38;5;28;01mimport\u001b[39;00m (\n\u001b[1;32m      6\u001b[0m     Configuration,\n\u001b[1;32m      7\u001b[0m     DictList,\n\u001b[0;32m   (...)\u001b[0m\n\u001b[1;32m     14\u001b[0m     Species,\n\u001b[1;32m     15\u001b[0m )\n\u001b[1;32m     16\u001b[0m \u001b[38;5;28;01mfrom\u001b[39;00m \u001b[38;5;21;01mcobra\u001b[39;00m \u001b[38;5;28;01mimport\u001b[39;00m flux_analysis\n\u001b[0;32m---> 17\u001b[0m \u001b[38;5;28;01mfrom\u001b[39;00m \u001b[38;5;21;01mcobra\u001b[39;00m \u001b[38;5;28;01mimport\u001b[39;00m io\n\u001b[1;32m     18\u001b[0m \u001b[38;5;28;01mfrom\u001b[39;00m \u001b[38;5;21;01mcobra\u001b[39;00m \u001b[38;5;28;01mimport\u001b[39;00m medium\n\u001b[1;32m     19\u001b[0m \u001b[38;5;28;01mfrom\u001b[39;00m \u001b[38;5;21;01mcobra\u001b[39;00m \u001b[38;5;28;01mimport\u001b[39;00m sampling\n",
      "File \u001b[0;32m~/Library/Caches/pypoetry/virtualenvs/bio-bundles-WKcrZPME-py3.10/lib/python3.10/site-packages/cobra/io/__init__.py:6\u001b[0m\n\u001b[1;32m      4\u001b[0m \u001b[38;5;28;01mfrom\u001b[39;00m \u001b[38;5;21;01mcobra\u001b[39;00m\u001b[38;5;21;01m.\u001b[39;00m\u001b[38;5;21;01mio\u001b[39;00m\u001b[38;5;21;01m.\u001b[39;00m\u001b[38;5;21;01mdict\u001b[39;00m \u001b[38;5;28;01mimport\u001b[39;00m model_from_dict, model_to_dict\n\u001b[1;32m      5\u001b[0m \u001b[38;5;28;01mfrom\u001b[39;00m \u001b[38;5;21;01mcobra\u001b[39;00m\u001b[38;5;21;01m.\u001b[39;00m\u001b[38;5;21;01mio\u001b[39;00m\u001b[38;5;21;01m.\u001b[39;00m\u001b[38;5;21;01mjson\u001b[39;00m \u001b[38;5;28;01mimport\u001b[39;00m from_json, load_json_model, save_json_model, to_json\n\u001b[0;32m----> 6\u001b[0m \u001b[38;5;28;01mfrom\u001b[39;00m \u001b[38;5;21;01mcobra\u001b[39;00m\u001b[38;5;21;01m.\u001b[39;00m\u001b[38;5;21;01mio\u001b[39;00m\u001b[38;5;21;01m.\u001b[39;00m\u001b[38;5;21;01mmat\u001b[39;00m \u001b[38;5;28;01mimport\u001b[39;00m load_matlab_model, save_matlab_model\n\u001b[1;32m      7\u001b[0m \u001b[38;5;28;01mfrom\u001b[39;00m \u001b[38;5;21;01mcobra\u001b[39;00m\u001b[38;5;21;01m.\u001b[39;00m\u001b[38;5;21;01mio\u001b[39;00m\u001b[38;5;21;01m.\u001b[39;00m\u001b[38;5;21;01msbml\u001b[39;00m \u001b[38;5;28;01mimport\u001b[39;00m read_sbml_model, write_sbml_model, validate_sbml_model\n\u001b[1;32m      8\u001b[0m \u001b[38;5;28;01mfrom\u001b[39;00m \u001b[38;5;21;01mcobra\u001b[39;00m\u001b[38;5;21;01m.\u001b[39;00m\u001b[38;5;21;01mio\u001b[39;00m\u001b[38;5;21;01m.\u001b[39;00m\u001b[38;5;21;01myaml\u001b[39;00m \u001b[38;5;28;01mimport\u001b[39;00m from_yaml, load_yaml_model, save_yaml_model, to_yaml\n",
      "File \u001b[0;32m~/Library/Caches/pypoetry/virtualenvs/bio-bundles-WKcrZPME-py3.10/lib/python3.10/site-packages/cobra/io/mat.py:13\u001b[0m\n\u001b[1;32m     10\u001b[0m \u001b[38;5;28;01mfrom\u001b[39;00m \u001b[38;5;21;01mwarnings\u001b[39;00m \u001b[38;5;28;01mimport\u001b[39;00m warn\n\u001b[1;32m     12\u001b[0m \u001b[38;5;28;01mfrom\u001b[39;00m \u001b[38;5;21;01mnumpy\u001b[39;00m \u001b[38;5;28;01mimport\u001b[39;00m array, inf, isinf\n\u001b[0;32m---> 13\u001b[0m \u001b[38;5;28;01mfrom\u001b[39;00m \u001b[38;5;21;01mnumpy\u001b[39;00m \u001b[38;5;28;01mimport\u001b[39;00m \u001b[38;5;28mobject\u001b[39m \u001b[38;5;28;01mas\u001b[39;00m np_object\n\u001b[1;32m     15\u001b[0m \u001b[38;5;28;01mfrom\u001b[39;00m \u001b[38;5;21;01mcobra\u001b[39;00m\u001b[38;5;21;01m.\u001b[39;00m\u001b[38;5;21;01mcore\u001b[39;00m \u001b[38;5;28;01mimport\u001b[39;00m Metabolite, Model, Reaction\n\u001b[1;32m     16\u001b[0m \u001b[38;5;28;01mfrom\u001b[39;00m \u001b[38;5;21;01mcobra\u001b[39;00m\u001b[38;5;21;01m.\u001b[39;00m\u001b[38;5;21;01mutil\u001b[39;00m \u001b[38;5;28;01mimport\u001b[39;00m create_stoichiometric_matrix\n",
      "\u001b[0;31mImportError\u001b[0m: cannot import name 'object' from 'numpy' (/Users/alexanderpatrie/Library/Caches/pypoetry/virtualenvs/bio-bundles-WKcrZPME-py3.10/lib/python3.10/site-packages/numpy/__init__.py)"
     ]
    }
   ],
   "source": [
    "import logging\n",
    "import os\n",
    "from pathlib import Path\n",
    "\n",
    "import cobra\n",
    "from cobra.io import read_sbml_model\n",
    "from process_bigraph import Process, Composite\n",
    "import numpy as np\n",
    "\n",
    "\n",
    "logging.getLogger('cobra').setLevel(logging.ERROR)\n",
    "\n",
    "\n",
    "class FBA(Process):\n",
    "    config_schema = {\n",
    "        'model_file': 'string',\n",
    "        'objective': {\n",
    "            'domain': 'string',  # either protein or mrna\n",
    "            'name': 'string',  # specific to the model: i.e., LacI\n",
    "            'scaling_factor': 'float'\n",
    "        }\n",
    "    }\n",
    "\n",
    "    def __init__(self, config=None, core=CORE):\n",
    "        super().__init__(config, core)\n",
    "\n",
    "        # create model\n",
    "        model_file = self.config['model_file']\n",
    "        data_dir = Path(os.path.dirname(model_file))\n",
    "        path = data_dir / model_file.split('/')[-1]\n",
    "        self.model = read_sbml_model(str(path.resolve()))\n",
    "\n",
    "        # parse objective\n",
    "        self.objective_domain = self.config['objective']['domain']\n",
    "        self.objective_name = self.config['objective']['name']\n",
    "        self.scaling_factor = self.config['objective'].get('scaling_factor', 10)\n",
    "\n",
    "        # set objectives\n",
    "        self.model.objective = {\n",
    "            self.model.reactions.get_by_id(reaction.id): np.random.random()  # TODO: make this more realistic\n",
    "            for reaction in self.model.reactions\n",
    "        }\n",
    "\n",
    "        # set even bounds\n",
    "        for reaction in self.model.reactions:\n",
    "            rand_bound = np.random.random()\n",
    "            self.model.reactions.get_by_id(reaction.id).lower_bound = -rand_bound  # TODO: What to do here?\n",
    "            self.model.reactions.get_by_id(reaction.id).upper_bound = rand_bound\n",
    "\n",
    "    def initial_state(self):\n",
    "        initial_fluxes = {}\n",
    "        initial_solution = self.model.optimize()\n",
    "        if initial_solution.status == 'optimal':\n",
    "            initial_fluxes = {\n",
    "                reaction.name: reaction.flux\n",
    "                for reaction in self.model.reactions\n",
    "            }\n",
    "\n",
    "        return {'fluxes': initial_fluxes}\n",
    "\n",
    "    def inputs(self):\n",
    "        return {'reaction_fluxes': 'tree[float]'}\n",
    "\n",
    "    def outputs(self):\n",
    "        return {'fluxes': 'tree[float]'}\n",
    "\n",
    "    def update(self, state, interval):\n",
    "        for reaction_name, reaction_flux in state['reaction_fluxes'].items():\n",
    "            for reaction in self.model.reactions:\n",
    "                if reaction.name == reaction_name:\n",
    "                    # 1. reset objective weights according to reaction fluxes directly\n",
    "                    self.model.objective = {\n",
    "                        self.model.reactions.get_by_id(reaction.id): reaction_flux\n",
    "                    }\n",
    "\n",
    "                    # 2. set lower bound with scaling factor and reaction fluxes\n",
    "                    self.model.reactions.get_by_id(reaction.id).lower_bound = -self.scaling_factor * abs(reaction_flux)  # / (5 + abs(reaction_flux))\n",
    "\n",
    "        # 3. solve for fluxes\n",
    "        output_state = {}\n",
    "        solution = self.model.optimize()\n",
    "        if solution.status == \"optimal\":\n",
    "            data = dict(zip(\n",
    "                list(state['reaction_fluxes'].keys()),\n",
    "                list(solution.fluxes.to_dict().values())\n",
    "            ))\n",
    "            output_state['fluxes'] = data\n",
    "\n",
    "            # TODO: do we want to instead scale by input flux?\n",
    "            # for reaction in self.model.reactions:\n",
    "            #     flux = solution.fluxes[reaction.id]\n",
    "            #     for reaction_name, reaction_flux in state['reaction_fluxes'].items():\n",
    "            #         if reaction.name == reaction_name:\n",
    "            #             fluxes[reaction.name] = flux * reaction_flux\n",
    "\n",
    "        return output_state\n",
    "\n",
    "\n",
    "CORE.process_registry.register('fba', FBA)"
   ]
  },
  {
   "cell_type": "code",
   "execution_count": 4,
   "id": "ef205d099cda136b",
   "metadata": {
    "ExecuteTime": {
     "end_time": "2024-10-07T16:19:48.325842Z",
     "start_time": "2024-10-07T16:19:48.320661Z"
    }
   },
   "outputs": [],
   "source": [
    "fp = '/Users/alexanderpatrie/Desktop/repos/biosimulator-processes/test_suite/examples/sbml-core/Elowitz-Nature-2000-Repressilator/BIOMD0000000012_url.xml'\n",
    "fp2 = '/Users/alexanderpatrie/Desktop/repos/biosimulator-processes/test_suite/examples/sbml-core/Beard2005_Mitochondrial_Respiration.xml'\n",
    "fp3 = '/Users/alexanderpatrie/Desktop/repos/biosimulator-processes/test_suite/examples/sbml-core/Mitchell2013/BIOMD0000000498_url.xml'\n",
    "\n",
    "\n",
    "doc = {\n",
    "        'ode': {\n",
    "            '_type': 'process',\n",
    "            'address': f'local:ode-copasi',\n",
    "            'config': {\n",
    "                'model_file': fp3\n",
    "            },\n",
    "            'inputs': {\n",
    "                'time': ['time_store'],\n",
    "                'species_concentrations': ['species_concentrations_store']\n",
    "            },\n",
    "            'outputs': {\n",
    "                'time': ['time_store'],\n",
    "                'species_concentrations': ['species_concentrations_store'],\n",
    "                'reaction_fluxes': ['reaction_fluxes_store']\n",
    "            }\n",
    "        },\n",
    "        'fba': {\n",
    "            '_type': 'process',\n",
    "            'address': f'local:fba',\n",
    "            'config': {\n",
    "                'model_file': fp3,\n",
    "            },\n",
    "            'inputs': {\n",
    "                'reaction_fluxes': ['reaction_fluxes_store']\n",
    "            },\n",
    "            'outputs': {\n",
    "                'fluxes': ['fluxes_store']\n",
    "            }\n",
    "        },\n",
    "        'emitter': {\n",
    "            '_type': 'step',\n",
    "            'address': 'local:ram-emitter',\n",
    "            'config': {\n",
    "                'emit': {\n",
    "                    'time': 'float',\n",
    "                    'species_concentrations': 'tree[float]',\n",
    "                    'reaction_fluxes': 'tree[float]',\n",
    "                    'fluxes': 'tree[float]'\n",
    "                }\n",
    "            },\n",
    "            'inputs': {\n",
    "                'time': ['time_store'],\n",
    "                'species_concentrations': ['species_concentrations_store'],\n",
    "                'reaction_fluxes': ['reaction_fluxes_store'],\n",
    "                'fluxes': ['fluxes_store']\n",
    "            }\n",
    "        }\n",
    "    }"
   ]
  },
  {
   "cell_type": "code",
   "execution_count": null,
   "id": "cb4855bb2375aa5d",
   "metadata": {},
   "outputs": [],
   "source": [
    "composition = Composite(config={'state': doc}, core=CORE)\n",
    "\n",
    "# save initial state \n",
    "composition.save(filename='dfba_initial.json', outdir='.')"
   ]
  },
  {
   "cell_type": "code",
   "execution_count": null,
   "id": "716ac3e33152cc7e",
   "metadata": {},
   "outputs": [],
   "source": [
    "composition.run(200)\n",
    "\n",
    "# save final state\n",
    "composition.save(filename='dfba_final.json', outdir='.')\n",
    "\n",
    "# get result from emitter\n",
    "result = composition.gather_results()[('emitter',)]"
   ]
  },
  {
   "cell_type": "code",
   "execution_count": null,
   "id": "a4ab2fa417bb8e91",
   "metadata": {},
   "outputs": [],
   "source": [
    "result[:2]"
   ]
  },
  {
   "cell_type": "code",
   "execution_count": null,
   "id": "48157e5c957273ee",
   "metadata": {},
   "outputs": [],
   "source": [
    "import json \n",
    "\n",
    "with open('dfba_final.json', 'r') as f:\n",
    "    checkpoint = json.load(f)\n",
    "    \n",
    "composition2 = Composite(config={'state': checkpoint}, core=CORE)"
   ]
  },
  {
   "cell_type": "code",
   "execution_count": null,
   "id": "d4228b048e4a2fb3",
   "metadata": {},
   "outputs": [],
   "source": [
    "composition2.state"
   ]
  },
  {
   "cell_type": "code",
   "execution_count": null,
   "id": "b4efbc4acee9a672",
   "metadata": {},
   "outputs": [],
   "source": []
  },
  {
   "cell_type": "code",
   "execution_count": 1,
   "id": "a9c63baef5a094ce",
   "metadata": {
    "ExecuteTime": {
     "end_time": "2024-10-07T18:27:11.790942Z",
     "start_time": "2024-10-07T18:27:11.650538Z"
    }
   },
   "outputs": [
    {
     "name": "stdout",
     "output_type": "stream",
     "text": [
      "rm: ../tests/fixtures/smoldyn/molecule_out.txt: No such file or directory\n"
     ]
    }
   ],
   "source": [
    "!rm ../tests/fixtures/smoldyn/molecule_out.txt"
   ]
  },
  {
   "cell_type": "code",
   "execution_count": 2,
   "id": "377240b6-a47c-4755-890a-710e9cb4ca4d",
   "metadata": {},
   "outputs": [
    {
     "name": "stdout",
     "output_type": "stream",
     "text": [
      "rm: ../tests/fixtures/smoldyn/lip2_out.txt: No such file or directory\n"
     ]
    }
   ],
   "source": [
    "!rm ../tests/fixtures/smoldyn/lip2_out.txt && rm ../tests/fixtures/smoldyn/lip2.simularium"
   ]
  },
  {
   "cell_type": "code",
   "execution_count": 3,
   "id": "4897122b89ce2a4a",
   "metadata": {
    "ExecuteTime": {
     "end_time": "2024-10-07T18:27:12.353235Z",
     "start_time": "2024-10-07T18:27:12.225428Z"
    }
   },
   "outputs": [
    {
     "name": "stdout",
     "output_type": "stream",
     "text": [
      "rm: ../tests/fixtures/smoldyn/lip.simularium: No such file or directory\n"
     ]
    }
   ],
   "source": [
    "!rm ../tests/fixtures/smoldyn/lip_out.txt && rm ../tests/fixtures/smoldyn/lip.simularium"
   ]
  },
  {
   "cell_type": "code",
   "execution_count": 4,
   "id": "aefbfa5825d6486a",
   "metadata": {
    "ExecuteTime": {
     "end_time": "2024-10-07T18:33:00.449838Z",
     "start_time": "2024-10-07T18:33:00.438453Z"
    }
   },
   "outputs": [
    {
     "name": "stdout",
     "output_type": "stream",
     "text": [
      "--------------------------------------------------------------\n",
      "Running Smoldyn 2.73\n",
      "\n",
      "CONFIGURATION FILE\n",
      " Path: '/Users/alexanderpatrie/Desktop/repos/bio-bundles/tests/fixtures/smoldyn/'\n",
      " Name: 'lip2.txt'\n",
      " Reading file: '/Users/alexanderpatrie/Desktop/repos/bio-bundles/tests/fixtures/smoldyn/lip2.txt'\n",
      "Error reading file in line 81\n",
      "line:     action both reflect \n",
      "file: /Users/alexanderpatrie/Desktop/repos/bio-bundles/tests/fixtures/smoldyn/lip2.txt\n",
      "Message: action format: species[(state)] face action\n"
     ]
    },
    {
     "name": "stderr",
     "output_type": "stream",
     "text": [
      "Simulation:: Fatal error: failed to initialize Simulation.\n"
     ]
    }
   ],
   "source": [
    "import smoldyn\n",
    "\n",
    "fp = '/Users/alexanderpatrie/Desktop/repos/bio-bundles/tests/fixtures/smoldyn/lip2.txt'      # lip.txt'\n",
    "fp2 = '/Users/alexanderpatrie/Desktop/repos/bio-bundles/tests/fixtures/smoldyn/tracking.txt'\n",
    "sim = smoldyn.Simulation.fromFile(fp)"
   ]
  },
  {
   "cell_type": "code",
   "execution_count": 4,
   "id": "d42bf8d9c015e75f",
   "metadata": {},
   "outputs": [
    {
     "name": "stderr",
     "output_type": "stream",
     "text": [
      "Libsmoldyn notification from smolRunSim: Simulation complete\n"
     ]
    },
    {
     "data": {
      "text/plain": [
       "<ErrorCode.ok: 0>"
      ]
     },
     "execution_count": 4,
     "metadata": {},
     "output_type": "execute_result"
    }
   ],
   "source": [
    "sim.runSim()"
   ]
  },
  {
   "cell_type": "code",
   "execution_count": 5,
   "id": "b04f157fde9dbf39",
   "metadata": {
    "ExecuteTime": {
     "end_time": "2024-10-07T18:24:56.191169Z",
     "start_time": "2024-10-07T18:24:56.056623Z"
    }
   },
   "outputs": [
    {
     "name": "stdout",
     "output_type": "stream",
     "text": [
      "MinE.txt                  molecule.simularium       tracking_listmols.txt\n",
      "lip.txt                   molecule.txt              tracking_listmols_out.txt\n",
      "lip_counts_out.txt        tracking.simularium       tracking_out.txt\n",
      "lip_out.txt               tracking.txt              tracking_trackmol.txt\n"
     ]
    }
   ],
   "source": [
    "!ls ../tests/fixtures/smoldyn"
   ]
  },
  {
   "cell_type": "code",
   "execution_count": 6,
   "id": "70f13d661223a570",
   "metadata": {
    "ExecuteTime": {
     "end_time": "2024-10-07T18:25:18.560306Z",
     "start_time": "2024-10-07T18:25:18.388481Z"
    }
   },
   "outputs": [],
   "source": [
    "from IPython.display import Image\n",
    "import numpy as np\n",
    "from simulariumio.smoldyn import SmoldynConverter, SmoldynData\n",
    "from simulariumio import (\n",
    "    UnitData, \n",
    "    MetaData, \n",
    "    DisplayData, \n",
    "    DISPLAY_TYPE, \n",
    "    ModelMetaData, \n",
    "    BinaryWriter, \n",
    "    InputFileData,\n",
    ")\n",
    "from simulariumio.filters import TranslateFilter\n",
    "\n",
    "\n",
    "box_size = 1000.\n",
    "\n",
    "example_data = SmoldynData(\n",
    "    meta_data=MetaData(\n",
    "        box_size=np.array([box_size, box_size, box_size]),\n",
    "        trajectory_title=\"Some parameter set\",\n",
    "        model_meta_data=ModelMetaData(\n",
    "            title=\"LIP\",\n",
    "            version=\"8.1\",\n",
    "            authors=\"Alexander A. Patrie\",\n",
    "            description=(\n",
    "                \"Based on BIOMD0000000498 - Mitchell, Mendes PLoS Comput. Biol. 2013 Nov; 9(11): e1003299\"\n",
    "            ),\n",
    "            doi=\"10.1016/j.bpj.2016.02.002\",\n",
    "            source_code_url=\"https://github.com/simularium/simulariumio\",\n",
    "            source_code_license_url=\"https://github.com/simularium/simulariumio/blob/main/LICENSE\",\n",
    "            input_data_url=\"https://allencell.org/path/to/native/engine/input/files\",\n",
    "            raw_output_data_url=\"https://allencell.org/path/to/native/engine/output/files\",\n",
    "        ),\n",
    "    ),\n",
    "    smoldyn_file=InputFileData(\n",
    "        file_path=\"/Users/alexanderpatrie/Desktop/repos/bio-bundles/tests/fixtures/smoldyn/lip_out.txt\"\n",
    "    ),\n",
    "    # display_data={\n",
    "    #     \"Fe2_ION(solution)\": DisplayData(\n",
    "    #         name=\"Fe2+\",\n",
    "    #         radius=0.3,  # 0.0001 for µ\n",
    "    #         display_type=DISPLAY_TYPE.SPHERE,\n",
    "    #         color=\"#00FF00\"\n",
    "    #     ),\n",
    "    #     \"Ferritin(solution)\": DisplayData(\n",
    "    #         name=\"Ferritin\",\n",
    "    #         radius=0.8,  # 0.006 for µ\n",
    "    #         display_type=DISPLAY_TYPE.SPHERE,\n",
    "    #         color=\"#FF0000\"\n",
    "    #     ),\n",
    "    #     \"Ferritin_Fe2_ION(solution)\": DisplayData(\n",
    "    #         name=\"Ferritin_Fe2+\",\n",
    "    #         radius=0.8,\n",
    "    #         display_type=DISPLAY_TYPE.SPHERE,\n",
    "    #         color=\"#800080\"\n",
    "    #     ),\n",
    "    # },\n",
    "    time_units=UnitData(\"ns\"),  # nanoseconds\n",
    "    spatial_units=UnitData(\"nm\"),  # nanometers\n",
    "    center=True,\n",
    ")"
   ]
  },
  {
   "cell_type": "code",
   "execution_count": 7,
   "id": "442e6038d216ad9c",
   "metadata": {
    "ExecuteTime": {
     "end_time": "2024-10-07T18:25:19.152597Z",
     "start_time": "2024-10-07T18:25:19.150096Z"
    }
   },
   "outputs": [],
   "source": [
    "# from simulariumio import ScatterPlotData\n",
    "# \n",
    "# example_scatter_plot = ScatterPlotData(\n",
    "#     title=\"Test Scatterplot 1\",\n",
    "#     xaxis_title=\"time (ns)\",\n",
    "#     yaxis_title=\"concentration (uM)\",\n",
    "#     xtrace=np.array(list(range(10))),\n",
    "#     ytraces={\n",
    "#         \"agent1\": 100 * np.random.uniform(size=(10)),\n",
    "#         \"agent2\": 100 * np.random.uniform(size=(10)),\n",
    "#         \"agent3\": 100 * np.random.uniform(size=(10)),\n",
    "#     },\n",
    "#     render_mode=\"lines\"\n",
    "# )"
   ]
  },
  {
   "cell_type": "code",
   "execution_count": 8,
   "id": "36011fd6fc7513dc",
   "metadata": {
    "ExecuteTime": {
     "end_time": "2024-10-07T18:25:19.549920Z",
     "start_time": "2024-10-07T18:25:19.496888Z"
    }
   },
   "outputs": [
    {
     "name": "stdout",
     "output_type": "stream",
     "text": [
      "Reading Smoldyn Data -------------\n",
      "Reading Scatter Plot Data -------------\n",
      "Converting Trajectory Data to JSON -------------\n",
      "Writing JSON -------------\n",
      "saved to ../tests/fixtures/smoldyn/lip.simularium\n"
     ]
    }
   ],
   "source": [
    "converter = SmoldynConverter(example_data)\n",
    "# converter.add_plot(example_scatter_plot)\n",
    "converter.add_number_of_agents_plot()\n",
    "converter.save(\"../tests/fixtures/smoldyn/lip\", binary=False)"
   ]
  },
  {
   "cell_type": "code",
   "execution_count": null,
   "id": "bc5e742153f9dbb0",
   "metadata": {},
   "outputs": [],
   "source": [
    "import json \n",
    "\n",
    "with open('../tests/fixtures/smoldyn/lip.simularium', 'r') as f:\n",
    "    trajectory = json.load(f)\n",
    "    \n",
    "trajectory.keys()"
   ]
  },
  {
   "cell_type": "code",
   "execution_count": null,
   "id": "be4727a79083d5ac",
   "metadata": {},
   "outputs": [],
   "source": [
    "for i, d in enumerate(trajectory.get('spatialData').get('bundleData')):\n",
    "    print(i, d['time'])"
   ]
  },
  {
   "cell_type": "code",
   "execution_count": 14,
   "id": "f8be4329448eceb8",
   "metadata": {
    "ExecuteTime": {
     "end_time": "2024-10-07T15:28:03.759021Z",
     "start_time": "2024-10-07T15:28:02.954001Z"
    }
   },
   "outputs": [],
   "source": [
    "import requests\n",
    "\n",
    "run_id = '61fea4a08c1e3dc95a79802e'\n",
    "name = 'simulation.sedml/report'\n",
    "headers = {'accept': 'application/json'}\n",
    "params = {\n",
    "    'run_id': run_id,\n",
    "    'dataset_name': name,\n",
    "}\n",
    "url = f'https://simdata.api.biosimulations.org/datasets/{run_id}/data'\n",
    "\n",
    "resp = requests.get(url, params={'dataset_name': name}, headers=headers)"
   ]
  },
  {
   "cell_type": "code",
   "execution_count": 23,
   "id": "a882b0c0bc66962a",
   "metadata": {
    "ExecuteTime": {
     "end_time": "2024-10-07T15:29:49.749576Z",
     "start_time": "2024-10-07T15:29:49.745687Z"
    }
   },
   "outputs": [],
   "source": [
    "data = resp.json().get('values')"
   ]
  },
  {
   "cell_type": "code",
   "execution_count": 31,
   "id": "52609c0883b03b4d",
   "metadata": {
    "ExecuteTime": {
     "end_time": "2024-10-07T15:31:14.202624Z",
     "start_time": "2024-10-07T15:31:14.200922Z"
    }
   },
   "outputs": [],
   "source": [
    "t = data[:601]"
   ]
  },
  {
   "cell_type": "code",
   "execution_count": 32,
   "id": "7e538340e9bae3ba",
   "metadata": {
    "ExecuteTime": {
     "end_time": "2024-10-07T15:31:14.741927Z",
     "start_time": "2024-10-07T15:31:14.739691Z"
    }
   },
   "outputs": [
    {
     "data": {
      "text/plain": [
       "7.0"
      ]
     },
     "execution_count": 32,
     "metadata": {},
     "output_type": "execute_result"
    }
   ],
   "source": [
    "len(data) / 601"
   ]
  },
  {
   "cell_type": "code",
   "execution_count": 33,
   "id": "2e89f26d6f99d009",
   "metadata": {
    "ExecuteTime": {
     "end_time": "2024-10-07T15:31:15.538809Z",
     "start_time": "2024-10-07T15:31:15.535296Z"
    }
   },
   "outputs": [
    {
     "data": {
      "text/plain": [
       "1202"
      ]
     },
     "execution_count": 33,
     "metadata": {},
     "output_type": "execute_result"
    }
   ],
   "source": [
    "601*2"
   ]
  },
  {
   "cell_type": "code",
   "execution_count": 35,
   "id": "63d3fd30e86c91c3",
   "metadata": {
    "ExecuteTime": {
     "end_time": "2024-10-07T16:30:10.908Z",
     "start_time": "2024-10-07T16:30:07.780560Z"
    }
   },
   "outputs": [
    {
     "ename": "ImportError",
     "evalue": "cannot import name 'float_' from 'numpy' (/Users/alexanderpatrie/Library/Caches/pypoetry/virtualenvs/bio-bundles-WKcrZPME-py3.10/lib/python3.10/site-packages/numpy/__init__.py)",
     "output_type": "error",
     "traceback": [
      "\u001b[0;31m---------------------------------------------------------------------------\u001b[0m",
      "\u001b[0;31mImportError\u001b[0m                               Traceback (most recent call last)",
      "Cell \u001b[0;32mIn[35], line 1\u001b[0m\n\u001b[0;32m----> 1\u001b[0m \u001b[38;5;28;01mfrom\u001b[39;00m \u001b[38;5;21;01mmass\u001b[39;00m\u001b[38;5;21;01m.\u001b[39;00m\u001b[38;5;21;01mio\u001b[39;00m \u001b[38;5;28;01mimport\u001b[39;00m sbml\n",
      "File \u001b[0;32m~/Library/Caches/pypoetry/virtualenvs/bio-bundles-WKcrZPME-py3.10/lib/python3.10/site-packages/mass/__init__.py:7\u001b[0m\n\u001b[1;32m      4\u001b[0m \u001b[38;5;28;01mfrom\u001b[39;00m \u001b[38;5;21;01mos\u001b[39;00m\u001b[38;5;21;01m.\u001b[39;00m\u001b[38;5;21;01mpath\u001b[39;00m \u001b[38;5;28;01mimport\u001b[39;00m abspath \u001b[38;5;28;01mas\u001b[39;00m _abspath\n\u001b[1;32m      5\u001b[0m \u001b[38;5;28;01mfrom\u001b[39;00m \u001b[38;5;21;01mos\u001b[39;00m\u001b[38;5;21;01m.\u001b[39;00m\u001b[38;5;21;01mpath\u001b[39;00m \u001b[38;5;28;01mimport\u001b[39;00m dirname \u001b[38;5;28;01mas\u001b[39;00m _dirname\n\u001b[0;32m----> 7\u001b[0m \u001b[38;5;28;01mfrom\u001b[39;00m \u001b[38;5;21;01mmass\u001b[39;00m \u001b[38;5;28;01mimport\u001b[39;00m enzyme_modules, io\n\u001b[1;32m      8\u001b[0m \u001b[38;5;28;01mfrom\u001b[39;00m \u001b[38;5;21;01mmass\u001b[39;00m\u001b[38;5;21;01m.\u001b[39;00m\u001b[38;5;21;01mcore\u001b[39;00m \u001b[38;5;28;01mimport\u001b[39;00m (\n\u001b[1;32m      9\u001b[0m     MassConfiguration,\n\u001b[1;32m     10\u001b[0m     MassMetabolite,\n\u001b[0;32m   (...)\u001b[0m\n\u001b[1;32m     15\u001b[0m     UnitDefinition,\n\u001b[1;32m     16\u001b[0m )\n\u001b[1;32m     17\u001b[0m \u001b[38;5;28;01mfrom\u001b[39;00m \u001b[38;5;21;01mmass\u001b[39;00m\u001b[38;5;21;01m.\u001b[39;00m\u001b[38;5;21;01msimulation\u001b[39;00m \u001b[38;5;28;01mimport\u001b[39;00m Simulation\n",
      "File \u001b[0;32m~/Library/Caches/pypoetry/virtualenvs/bio-bundles-WKcrZPME-py3.10/lib/python3.10/site-packages/mass/enzyme_modules/__init__.py:2\u001b[0m\n\u001b[1;32m      1\u001b[0m \u001b[38;5;66;03m# -*- coding: utf-8 -*-\u001b[39;00m\n\u001b[0;32m----> 2\u001b[0m \u001b[38;5;28;01mfrom\u001b[39;00m \u001b[38;5;21;01mmass\u001b[39;00m\u001b[38;5;21;01m.\u001b[39;00m\u001b[38;5;21;01menzyme_modules\u001b[39;00m\u001b[38;5;21;01m.\u001b[39;00m\u001b[38;5;21;01menzyme_module\u001b[39;00m \u001b[38;5;28;01mimport\u001b[39;00m EnzymeModule\n\u001b[1;32m      3\u001b[0m \u001b[38;5;28;01mfrom\u001b[39;00m \u001b[38;5;21;01mmass\u001b[39;00m\u001b[38;5;21;01m.\u001b[39;00m\u001b[38;5;21;01menzyme_modules\u001b[39;00m\u001b[38;5;21;01m.\u001b[39;00m\u001b[38;5;21;01menzyme_module_dict\u001b[39;00m \u001b[38;5;28;01mimport\u001b[39;00m (\n\u001b[1;32m      4\u001b[0m     _ORDERED_ENZYMEMODULE_DICT_DEFAULTS,\n\u001b[1;32m      5\u001b[0m     EnzymeModuleDict,\n\u001b[1;32m      6\u001b[0m )\n\u001b[1;32m      7\u001b[0m \u001b[38;5;28;01mfrom\u001b[39;00m \u001b[38;5;21;01mmass\u001b[39;00m\u001b[38;5;21;01m.\u001b[39;00m\u001b[38;5;21;01menzyme_modules\u001b[39;00m\u001b[38;5;21;01m.\u001b[39;00m\u001b[38;5;21;01menzyme_module_form\u001b[39;00m \u001b[38;5;28;01mimport\u001b[39;00m EnzymeModuleForm\n",
      "File \u001b[0;32m~/Library/Caches/pypoetry/virtualenvs/bio-bundles-WKcrZPME-py3.10/lib/python3.10/site-packages/mass/enzyme_modules/enzyme_module.py:58\u001b[0m\n\u001b[1;32m     56\u001b[0m \u001b[38;5;28;01mimport\u001b[39;00m \u001b[38;5;21;01mnumpy\u001b[39;00m \u001b[38;5;28;01mas\u001b[39;00m \u001b[38;5;21;01mnp\u001b[39;00m\n\u001b[1;32m     57\u001b[0m \u001b[38;5;28;01mimport\u001b[39;00m \u001b[38;5;21;01msympy\u001b[39;00m \u001b[38;5;28;01mas\u001b[39;00m \u001b[38;5;21;01msym\u001b[39;00m\n\u001b[0;32m---> 58\u001b[0m \u001b[38;5;28;01mfrom\u001b[39;00m \u001b[38;5;21;01mcobra\u001b[39;00m\u001b[38;5;21;01m.\u001b[39;00m\u001b[38;5;21;01mcore\u001b[39;00m\u001b[38;5;21;01m.\u001b[39;00m\u001b[38;5;21;01mdictlist\u001b[39;00m \u001b[38;5;28;01mimport\u001b[39;00m DictList\n\u001b[1;32m     59\u001b[0m \u001b[38;5;28;01mfrom\u001b[39;00m \u001b[38;5;21;01mcobra\u001b[39;00m\u001b[38;5;21;01m.\u001b[39;00m\u001b[38;5;21;01mcore\u001b[39;00m\u001b[38;5;21;01m.\u001b[39;00m\u001b[38;5;21;01mgroup\u001b[39;00m \u001b[38;5;28;01mimport\u001b[39;00m Group\n\u001b[1;32m     60\u001b[0m \u001b[38;5;28;01mfrom\u001b[39;00m \u001b[38;5;21;01mcobra\u001b[39;00m\u001b[38;5;21;01m.\u001b[39;00m\u001b[38;5;21;01mutil\u001b[39;00m\u001b[38;5;21;01m.\u001b[39;00m\u001b[38;5;21;01mcontext\u001b[39;00m \u001b[38;5;28;01mimport\u001b[39;00m get_context\n",
      "File \u001b[0;32m~/Library/Caches/pypoetry/virtualenvs/bio-bundles-WKcrZPME-py3.10/lib/python3.10/site-packages/cobra/__init__.py:17\u001b[0m\n\u001b[1;32m      5\u001b[0m \u001b[38;5;28;01mfrom\u001b[39;00m \u001b[38;5;21;01mcobra\u001b[39;00m\u001b[38;5;21;01m.\u001b[39;00m\u001b[38;5;21;01mcore\u001b[39;00m \u001b[38;5;28;01mimport\u001b[39;00m (\n\u001b[1;32m      6\u001b[0m     Configuration,\n\u001b[1;32m      7\u001b[0m     DictList,\n\u001b[0;32m   (...)\u001b[0m\n\u001b[1;32m     14\u001b[0m     Species,\n\u001b[1;32m     15\u001b[0m )\n\u001b[1;32m     16\u001b[0m \u001b[38;5;28;01mfrom\u001b[39;00m \u001b[38;5;21;01mcobra\u001b[39;00m \u001b[38;5;28;01mimport\u001b[39;00m flux_analysis\n\u001b[0;32m---> 17\u001b[0m \u001b[38;5;28;01mfrom\u001b[39;00m \u001b[38;5;21;01mcobra\u001b[39;00m \u001b[38;5;28;01mimport\u001b[39;00m io\n\u001b[1;32m     18\u001b[0m \u001b[38;5;28;01mfrom\u001b[39;00m \u001b[38;5;21;01mcobra\u001b[39;00m \u001b[38;5;28;01mimport\u001b[39;00m medium\n\u001b[1;32m     19\u001b[0m \u001b[38;5;28;01mfrom\u001b[39;00m \u001b[38;5;21;01mcobra\u001b[39;00m \u001b[38;5;28;01mimport\u001b[39;00m sampling\n",
      "File \u001b[0;32m~/Library/Caches/pypoetry/virtualenvs/bio-bundles-WKcrZPME-py3.10/lib/python3.10/site-packages/cobra/io/__init__.py:4\u001b[0m\n\u001b[1;32m      1\u001b[0m \u001b[38;5;124;03m\"\"\"Provide functions for loading and saving metabolic models.\"\"\"\u001b[39;00m\n\u001b[0;32m----> 4\u001b[0m \u001b[38;5;28;01mfrom\u001b[39;00m \u001b[38;5;21;01mcobra\u001b[39;00m\u001b[38;5;21;01m.\u001b[39;00m\u001b[38;5;21;01mio\u001b[39;00m\u001b[38;5;21;01m.\u001b[39;00m\u001b[38;5;21;01mdict\u001b[39;00m \u001b[38;5;28;01mimport\u001b[39;00m model_from_dict, model_to_dict\n\u001b[1;32m      5\u001b[0m \u001b[38;5;28;01mfrom\u001b[39;00m \u001b[38;5;21;01mcobra\u001b[39;00m\u001b[38;5;21;01m.\u001b[39;00m\u001b[38;5;21;01mio\u001b[39;00m\u001b[38;5;21;01m.\u001b[39;00m\u001b[38;5;21;01mjson\u001b[39;00m \u001b[38;5;28;01mimport\u001b[39;00m from_json, load_json_model, save_json_model, to_json\n\u001b[1;32m      6\u001b[0m \u001b[38;5;28;01mfrom\u001b[39;00m \u001b[38;5;21;01mcobra\u001b[39;00m\u001b[38;5;21;01m.\u001b[39;00m\u001b[38;5;21;01mio\u001b[39;00m\u001b[38;5;21;01m.\u001b[39;00m\u001b[38;5;21;01mmat\u001b[39;00m \u001b[38;5;28;01mimport\u001b[39;00m load_matlab_model, save_matlab_model\n",
      "File \u001b[0;32m~/Library/Caches/pypoetry/virtualenvs/bio-bundles-WKcrZPME-py3.10/lib/python3.10/site-packages/cobra/io/dict.py:9\u001b[0m\n\u001b[1;32m      6\u001b[0m \u001b[38;5;28;01mfrom\u001b[39;00m \u001b[38;5;21;01moperator\u001b[39;00m \u001b[38;5;28;01mimport\u001b[39;00m attrgetter, itemgetter\n\u001b[1;32m      8\u001b[0m \u001b[38;5;28;01mimport\u001b[39;00m \u001b[38;5;21;01mnumpy\u001b[39;00m \u001b[38;5;28;01mas\u001b[39;00m \u001b[38;5;21;01mnp\u001b[39;00m\n\u001b[0;32m----> 9\u001b[0m \u001b[38;5;28;01mfrom\u001b[39;00m \u001b[38;5;21;01mnumpy\u001b[39;00m \u001b[38;5;28;01mimport\u001b[39;00m bool_, float_\n\u001b[1;32m     11\u001b[0m \u001b[38;5;28;01mfrom\u001b[39;00m \u001b[38;5;21;01mcobra\u001b[39;00m\u001b[38;5;21;01m.\u001b[39;00m\u001b[38;5;21;01mcore\u001b[39;00m \u001b[38;5;28;01mimport\u001b[39;00m Gene, Metabolite, Model, Reaction\n\u001b[1;32m     12\u001b[0m \u001b[38;5;28;01mfrom\u001b[39;00m \u001b[38;5;21;01mcobra\u001b[39;00m\u001b[38;5;21;01m.\u001b[39;00m\u001b[38;5;21;01mutil\u001b[39;00m\u001b[38;5;21;01m.\u001b[39;00m\u001b[38;5;21;01msolver\u001b[39;00m \u001b[38;5;28;01mimport\u001b[39;00m set_objective\n",
      "\u001b[0;31mImportError\u001b[0m: cannot import name 'float_' from 'numpy' (/Users/alexanderpatrie/Library/Caches/pypoetry/virtualenvs/bio-bundles-WKcrZPME-py3.10/lib/python3.10/site-packages/numpy/__init__.py)"
     ]
    }
   ],
   "source": [
    "from mass.io import sbml"
   ]
  },
  {
   "cell_type": "code",
   "execution_count": 5,
   "id": "d06ab56b5da406cc",
   "metadata": {},
   "outputs": [],
   "source": [
    "from basico import * "
   ]
  },
  {
   "cell_type": "code",
   "execution_count": 6,
   "id": "470710ec-8472-4d80-93a2-05b75f113c51",
   "metadata": {},
   "outputs": [],
   "source": [
    "m = load_model(fp3)"
   ]
  },
  {
   "cell_type": "code",
   "execution_count": 10,
   "id": "90b9a3a1-f0d3-4bec-9e81-35f11386bc03",
   "metadata": {},
   "outputs": [
    {
     "data": {
      "text/plain": [
       "['Hamp',\n",
       " 'Fe-FT',\n",
       " 'FT',\n",
       " 'FT1',\n",
       " 'HO-1',\n",
       " 'Heme',\n",
       " 'LIP',\n",
       " 'Fpn',\n",
       " 'IRP',\n",
       " 'Tf-Fe_intercell',\n",
       " 'TfR',\n",
       " 'Tf-Fe-TfR1',\n",
       " 'HFE',\n",
       " 'HFE-TfR',\n",
       " 'Tf-Fe-TfR2',\n",
       " '2(Tf-Fe)-TfR1',\n",
       " '2HFE-TfR',\n",
       " '2HFE-TfR2',\n",
       " '2(Tf-Fe)-TfR2',\n",
       " 'TfR2',\n",
       " 'Heme_intercell']"
      ]
     },
     "execution_count": 10,
     "metadata": {},
     "output_type": "execute_result"
    }
   ],
   "source": [
    "get_species(model=m).index.tolist()"
   ]
  },
  {
   "cell_type": "code",
   "execution_count": null,
   "id": "1aa0d941-4eb2-4e33-ad28-aa938a7b9ce4",
   "metadata": {},
   "outputs": [],
   "source": []
  }
 ],
 "metadata": {
  "kernelspec": {
   "display_name": "Python 3 (ipykernel)",
   "language": "python",
   "name": "python3"
  },
  "language_info": {
   "codemirror_mode": {
    "name": "ipython",
    "version": 3
   },
   "file_extension": ".py",
   "mimetype": "text/x-python",
   "name": "python",
   "nbconvert_exporter": "python",
   "pygments_lexer": "ipython3",
   "version": "3.10.14"
  }
 },
 "nbformat": 4,
 "nbformat_minor": 5
}
