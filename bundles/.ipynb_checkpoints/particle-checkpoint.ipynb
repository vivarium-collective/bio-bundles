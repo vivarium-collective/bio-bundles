{
 "cells": [
  {
   "cell_type": "code",
   "execution_count": 1,
   "id": "a9c63baef5a094ce",
   "metadata": {
    "ExecuteTime": {
     "end_time": "2024-10-07T18:27:11.790942Z",
     "start_time": "2024-10-07T18:27:11.650538Z"
    }
   },
   "outputs": [
    {
     "name": "stdout",
     "output_type": "stream",
     "text": [
      "rm: ../tests/fixtures/smoldyn/lip5.simularium: No such file or directory\n"
     ]
    }
   ],
   "source": [
    "!rm ../tests/fixtures/smoldyn/model_out.txt\n",
    "!rm ../tests/fixtures/smoldyn/lip5.simularium"
   ]
  },
  {
   "cell_type": "code",
   "execution_count": 2,
   "id": "aefbfa5825d6486a",
   "metadata": {
    "ExecuteTime": {
     "end_time": "2024-10-07T18:33:00.449838Z",
     "start_time": "2024-10-07T18:33:00.438453Z"
    }
   },
   "outputs": [],
   "source": [
    "import smoldyn\n",
    "\n",
    "fp = '/Users/alexanderpatrie/Desktop/repos/bio-bundles/tests/fixtures/smoldyn/lip5.txt'      # lip.txt'\n",
    "fp2 = '/Users/alexanderpatrie/Desktop/repos/bio-bundles/tests/fixtures/smoldyn/tracking.txt'\n",
    "fp3 = '/Users/alexanderpatrie/Desktop/repos/bio-bundles/tests/fixtures/smoldyn/crowding4.txt'\n",
    "sbml_fp = '/Users/alexanderpatrie/Desktop/repos/biosimulator-processes/test_suite/examples/sbml-core/Mitchell2013/BIOMD0000000498_url.xml'\n",
    "\n",
    "model_file = fp \n",
    "fname = model_file.split('/')[-1].replace('.txt', '')"
   ]
  },
  {
   "cell_type": "code",
   "execution_count": 3,
   "id": "d42bf8d9c015e75f",
   "metadata": {},
   "outputs": [
    {
     "name": "stderr",
     "output_type": "stream",
     "text": [
      "Libsmoldyn notification from smolRunSim: Simulation complete\n"
     ]
    },
    {
     "data": {
      "text/plain": [
       "<ErrorCode.ok: 0>"
      ]
     },
     "execution_count": 3,
     "metadata": {},
     "output_type": "execute_result"
    }
   ],
   "source": [
    "sim = smoldyn.Simulation.fromFile(model_file)\n",
    "sim.runSim()"
   ]
  },
  {
   "cell_type": "code",
   "execution_count": 4,
   "id": "b04f157fde9dbf39",
   "metadata": {
    "ExecuteTime": {
     "end_time": "2024-10-07T18:24:56.191169Z",
     "start_time": "2024-10-07T18:24:56.056623Z"
    }
   },
   "outputs": [
    {
     "name": "stdout",
     "output_type": "stream",
     "text": [
      "MinE.txt           lip2.txt           lip5.txt           model_out.txt\n",
      "crowding4.txt      lip3.txt           lip_counts_out.txt molecule.txt\n",
      "lip.txt            lip4.txt           lip_out.txt        tracking.txt\n"
     ]
    }
   ],
   "source": [
    "!ls ../tests/fixtures/smoldyn"
   ]
  },
  {
   "cell_type": "code",
   "execution_count": 13,
   "id": "70f13d661223a570",
   "metadata": {
    "ExecuteTime": {
     "end_time": "2024-10-07T18:25:18.560306Z",
     "start_time": "2024-10-07T18:25:18.388481Z"
    }
   },
   "outputs": [],
   "source": [
    "from IPython.display import Image\n",
    "import numpy as np\n",
    "from simulariumio.smoldyn import SmoldynConverter, SmoldynData\n",
    "from simulariumio import (\n",
    "    UnitData, \n",
    "    MetaData, \n",
    "    DisplayData, \n",
    "    DISPLAY_TYPE, \n",
    "    ModelMetaData, \n",
    "    BinaryWriter, \n",
    "    InputFileData,\n",
    ")\n",
    "from simulariumio.filters import TranslateFilter\n",
    "\n",
    "\n",
    "ub = 40.\n",
    "box_size = 100.0\n",
    "smallest_ratio = 0.5\n",
    "simularium_size_ratios = {\n",
    "    'LIP(solution)': smallest_ratio,  # (smallest)\n",
    "    'TfR(solution)': 14.7 * smallest_ratio,\n",
    "    'Tf-Fe_intercell(solution)': 11.2 * smallest_ratio,\n",
    "    'Fpn(solution)': 10.3 * smallest_ratio,\n",
    "    'Fe-FT(solution)': 20.3 * smallest_ratio,\n",
    "    'FT(solution)': 20.3 * smallest_ratio,\n",
    "    'Tf-Fe-TfR1(solution)': 13 * smallest_ratio,\n",
    "}\n",
    "\n",
    "\n",
    "display_data = {\n",
    "    key: DisplayData(\n",
    "        name=key,\n",
    "        radius=1.2 if value > 15 else 1.0 if value > 8 and value < 15 else 0.5,\n",
    "        display_type=DISPLAY_TYPE.SPHERE\n",
    "    )\n",
    "    for key, value in simularium_size_ratios.items()\n",
    "}\n",
    "\n",
    "\n",
    "trajectory_data = SmoldynData(\n",
    "    meta_data=MetaData(\n",
    "        box_size=np.array([box_size, box_size, box_size]),\n",
    "        trajectory_title=\"Some parameter set\",\n",
    "        model_meta_data=ModelMetaData(\n",
    "            title=\"LIP\",\n",
    "            version=\"8.1\",\n",
    "            authors=\"Alexander A. Patrie\",\n",
    "            description=(\n",
    "                \"Based on BIOMD0000000498 - Mitchell, Mendes PLoS Comput. Biol. 2013 Nov; 9(11): e1003299: A computational model of liver iron metabolism\"\n",
    "            ),\n",
    "            doi=\"10.1371/journal.pcbi.1003299\",\n",
    "            source_code_url=\"https://github.com/vivarium-collective/bio-bundles\",\n",
    "            source_code_license_url=\"https://github.com/vivarium-collective/bio-bundles/blob/main/LICENSE\",\n",
    "        ),\n",
    "    ),\n",
    "    smoldyn_file=InputFileData(\n",
    "        file_path=\"/Users/alexanderpatrie/Desktop/repos/bio-bundles/tests/fixtures/smoldyn/model_out.txt\"\n",
    "    ),\n",
    "    display_data=display_data,\n",
    "    time_units=UnitData(\"ns\"),  # nanoseconds\n",
    "    spatial_units=UnitData(\"µm\"),  # microns\n",
    "    center=True,\n",
    ")"
   ]
  },
  {
   "cell_type": "code",
   "execution_count": 14,
   "id": "36011fd6fc7513dc",
   "metadata": {
    "ExecuteTime": {
     "end_time": "2024-10-07T18:25:19.549920Z",
     "start_time": "2024-10-07T18:25:19.496888Z"
    }
   },
   "outputs": [
    {
     "name": "stdout",
     "output_type": "stream",
     "text": [
      "Reading Smoldyn Data -------------\n",
      "Reading Scatter Plot Data -------------\n",
      "Converting Trajectory Data to Binary -------------\n",
      "Writing Binary -------------\n",
      "saved to ../tests/fixtures/smoldyn/lip5.simularium\n"
     ]
    }
   ],
   "source": [
    "converter = SmoldynConverter(trajectory_data)\n",
    "\n",
    "simularium_fp = f\"../tests/fixtures/smoldyn/{fname}\"\n",
    "converter.add_number_of_agents_plot()\n",
    "converter.save(simularium_fp, binary=True)"
   ]
  },
  {
   "cell_type": "code",
   "execution_count": 14,
   "id": "bc5e742153f9dbb0",
   "metadata": {},
   "outputs": [
    {
     "data": {
      "text/plain": [
       "dict_keys(['trajectoryInfo', 'spatialData', 'plotData'])"
      ]
     },
     "execution_count": 14,
     "metadata": {},
     "output_type": "execute_result"
    }
   ],
   "source": [
    "import json \n",
    "\n",
    "with open(simularium_fp + '.simularium', 'r') as f:\n",
    "    trajectory = json.load(f)\n",
    "    \n",
    "trajectory.keys()"
   ]
  },
  {
   "cell_type": "code",
   "execution_count": 9,
   "id": "be4727a79083d5ac",
   "metadata": {},
   "outputs": [],
   "source": [
    "for i, d in enumerate(trajectory.get('spatialData').get('bundleData')):\n",
    "    # print(i, d['time'])\n",
    "    pass"
   ]
  },
  {
   "cell_type": "code",
   "execution_count": 3,
   "id": "d06ab56b5da406cc",
   "metadata": {},
   "outputs": [],
   "source": [
    "import numpy as np\n",
    "\n",
    "def calculate_radius(m: float, rho: float, scaling_factor: float = 10**(-1)) -> float:\n",
    "    \"\"\"\n",
    "    Calculate the radius of an agent given its molecular mass and density.\n",
    "\n",
    "    Args:\n",
    "        m (float): The molecular mass of the given agent/particle (Daltons).\n",
    "        rho (float): The density of the given agent/particle (kg/m^3).\n",
    "        scaling_factor (float): A scaling factor to convert radius units. Defaults to 10**(-2).\n",
    "\n",
    "    Returns:\n",
    "        float: Radius of the given agent in meters.\n",
    "    \"\"\"\n",
    "    dalton_to_kg = 1.66053906660e-27  # Conversion factor from Daltons to kilograms\n",
    "    m_kg = m * dalton_to_kg  # Convert mass to kilograms\n",
    "    radius_m = ((3 * m_kg) / (4 * np.pi * rho)) ** (1 / 3)  # Calculate radius in meters\n",
    "    return radius_m   # * scaling_factor  # Return radius in meters\n",
    "\n",
    "\n",
    "def calculate_molecular_mass(n_amino_acids: int, mol_mass: float = None) -> float:\n",
    "    \"\"\"\n",
    "    Calculate the molecular mass for an agent, given the amount of amino acids in the particular agent.\n",
    "\n",
    "    Args:\n",
    "        n_amino_acids (int): Number of amino acids within the given agent.\n",
    "        amino_acid_mass (Optional[int]): Average molecular weight of amino acids. Defaults to 110.\n",
    "\n",
    "    Returns:\n",
    "        float: The molecular mass of the given agent (in Daltons).\n",
    "    \"\"\"\n",
    "    avg_amino_acid_mass = 110\n",
    "    if n_amino_acids > 0:\n",
    "        return float(n_amino_acids * avg_amino_acid_mass)\n",
    "    else:\n",
    "        return mol_mass\n",
    "\n",
    "\n",
    "def calculate_diffusion_coefficient(name: str, n_amino_acids: float, rho: float, T: float = 310.15, eta: float = 0.01, mol_mass: float = None) -> dict[str, float]:\n",
    "    \"\"\"\n",
    "    Calculate the diffusion coefficient using the Stokes-Einstein equation.\n",
    "\n",
    "    Args:\n",
    "        m (float): Molecular mass (Daltons).\n",
    "        rho (float): Density of the molecule (kg/m^3).\n",
    "        T (float): Temperature (in Kelvin). Defaults to 310.15 (human liver cell).\n",
    "        eta (float): Dynamic viscosity of the medium (Pa.s). Defaults to 0.003 (for liver cell cytoplasm)\n",
    "\n",
    "    Returns:\n",
    "        float: Diffusion coefficient (in µ^2/s).\n",
    "    \"\"\"\n",
    "    k_B = 1.38e-23  # Boltzmann constant (in J/K)\n",
    "    m = calculate_molecular_mass(n_amino_acids, mol_mass)\n",
    "    # Calculate radius in meters\n",
    "    radius = calculate_radius(m, rho)\n",
    "    \n",
    "    # Stokes-Einstein equation to calculate the diffusion coefficient\n",
    "    D = (k_B * T) / (6 * np.pi * eta * radius)\n",
    "    \n",
    "    # Convert the diffusion coefficient to micrometers^2/s\n",
    "    return D * 1e12  # Converting m^2/s to µm^2/s\n",
    "\n",
    "\n",
    "species_info = {\n",
    "    \"Hamp\": {\"n_amino_acids\": 25, \"rho\": 1350},  # Hepcidin is a small peptide (25 amino acids)\n",
    "    \"Fe-FT\": {\"n_amino_acids\": 5000, \"rho\": 1350},  # Ferritin-bound Iron, ferritin is a large protein complex\n",
    "    \"FT\": {\"n_amino_acids\": 5000, \"rho\": 1350},  # Ferritin alone, similar to Fe-FT\n",
    "    \"FT1\": {\"n_amino_acids\": 3000, \"rho\": 1350},  # Smaller subunit of Ferritin\n",
    "    \"HO-1\": {\"n_amino_acids\": 288, \"rho\": 1350},  # Heme Oxygenase-1 protein\n",
    "    \"Heme\": {\"n_amino_acids\": 0, \"rho\": 1350, \"mol_mass\": 616.49},  # Heme is not a protein, but use density of small molecules\n",
    "    \"LIP\": {\"n_amino_acids\": 0, \"rho\": 1350, \"mol_mass\": 55.85},  # Labile Iron Pool (assumed to be iron ions, not protein)\n",
    "    \"Fpn\": {\"n_amino_acids\": 571, \"rho\": 1350},  # Ferroportin protein\n",
    "    \"IRP\": {\"n_amino_acids\": 891, \"rho\": 1350},  # Iron Regulatory Protein (IRP1/2)\n",
    "    \"Tf-Fe_intercell\": {\"n_amino_acids\": 679, \"rho\": 1350},  # Transferrin bound to iron\n",
    "    \"TfR\": {\"n_amino_acids\": 760, \"rho\": 1350},  # Transferrin Receptor\n",
    "    \"Tf-Fe-TfR1\": {\"n_amino_acids\": 1450, \"rho\": 1350},  # Transferrin bound to TfR1\n",
    "    \"HFE\": {\"n_amino_acids\": 343, \"rho\": 1350},  # Hereditary Hemochromatosis Protein\n",
    "    \"HFE-TfR\": {\"n_amino_acids\": 1103, \"rho\": 1350},  # HFE bound to Transferrin Receptor\n",
    "    \"Tf-Fe-TfR2\": {\"n_amino_acids\": 1450, \"rho\": 1350},  # Transferrin bound to TfR2\n",
    "    \"2(Tf-Fe)-TfR1\": {\"n_amino_acids\": 2900, \"rho\": 1350},  # Two Transferrin molecules bound to TfR1\n",
    "    \"2HFE-TfR\": {\"n_amino_acids\": 2206, \"rho\": 1350},  # Two HFE molecules bound to TfR1\n",
    "    \"2HFE-TfR2\": {\"n_amino_acids\": 2206, \"rho\": 1350},  # Two HFE molecules bound to TfR2\n",
    "    \"2(Tf-Fe)-TfR2\": {\"n_amino_acids\": 2900, \"rho\": 1350},  # Two Transferrin molecules bound to TfR2\n",
    "    \"TfR2\": {\"n_amino_acids\": 760, \"rho\": 1350},  # Transferrin Receptor 2\n",
    "    \"Heme_intercell\": {\"n_amino_acids\": 0, \"rho\": 1350, \"mol_mass\": 616.49},  # Heme extracellular form\n",
    "}\n",
    "names = list(species_info.keys())\n",
    "difcs = dict(zip(\n",
    "    names,\n",
    "    [calculate_diffusion_coefficient(key, **values) for key, values in species_info.items()]\n",
    "))"
   ]
  },
  {
   "cell_type": "code",
   "execution_count": 4,
   "id": "7a9cac6f-7b80-434b-92a4-31434495b342",
   "metadata": {},
   "outputs": [
    {
     "data": {
      "text/plain": [
       "{'Hamp': 24.38353181970454,\n",
       " 'Fe-FT': 4.1695252906720635,\n",
       " 'FT': 4.1695252906720635,\n",
       " 'FT1': 4.9435188630978155,\n",
       " 'HO-1': 10.796403764644122,\n",
       " 'Heme': 40.13890279774164,\n",
       " 'LIP': 89.37165145378914,\n",
       " 'Fpn': 8.59405069383893,\n",
       " 'IRP': 7.409417143706423,\n",
       " 'Tf-Fe_intercell': 8.111852075785466,\n",
       " 'TfR': 7.812776784688871,\n",
       " 'Tf-Fe-TfR1': 6.299227302616884,\n",
       " 'HFE': 10.18541136587056,\n",
       " 'HFE-TfR': 6.900566991332301,\n",
       " 'Tf-Fe-TfR2': 6.299227302616884,\n",
       " '2(Tf-Fe)-TfR1': 4.999700023380423,\n",
       " '2HFE-TfR': 5.476983650608965,\n",
       " '2HFE-TfR2': 5.476983650608965,\n",
       " '2(Tf-Fe)-TfR2': 4.999700023380423,\n",
       " 'TfR2': 7.812776784688871,\n",
       " 'Heme_intercell': 40.13890279774164}"
      ]
     },
     "execution_count": 4,
     "metadata": {},
     "output_type": "execute_result"
    }
   ],
   "source": [
    "difcs"
   ]
  },
  {
   "cell_type": "code",
   "execution_count": 7,
   "id": "5c1bbbf1-e15d-46fb-8b81-2f4290a54405",
   "metadata": {},
   "outputs": [],
   "source": [
    "from basico import * \n",
    "\n",
    "m = load_model(sbml_fp)"
   ]
  },
  {
   "cell_type": "code",
   "execution_count": 9,
   "id": "d0b478f1-2dcf-41f8-9fa7-fa7348396c2c",
   "metadata": {},
   "outputs": [
    {
     "data": {
      "text/plain": [
       "name\n",
       "Fpn Export                                             2 * LIP -> Tf-Fe_intercell;  Fpn LIP\n",
       "TfR1 expression                                                                -> TfR;  IRP\n",
       "TfR1 degradation                                                              TfR -> ;  TfR\n",
       "Ferroportin Expression                                                         -> Fpn;  IRP\n",
       "IRP expresion                                                                  -> IRP;  LIP\n",
       "IRP degradation                                                               IRP -> ;  IRP\n",
       "Fpn degradation                                                          Fpn -> ;  Hamp Fpn\n",
       "HFE degradation                                                               HFE -> ;  HFE\n",
       "HFE expression                                                                       -> HFE\n",
       "TfR2 expression                                                                     -> TfR2\n",
       "TfR2 degradation                                            TfR2 -> ;  Tf-Fe_intercell TfR2\n",
       "Hepcidin expression                                       -> Hamp;  2HFE-TfR2 2(Tf-Fe)-TfR2\n",
       "Hepcidin degradation                                                        Hamp -> ;  Hamp\n",
       "HFE TfR1 binding                                             HFE + TfR -> HFE-TfR;  HFE TfR\n",
       "HFE TfR1 release                                             HFE-TfR -> HFE + TfR;  HFE-TfR\n",
       "TfR1 binding                              Tf-Fe_intercell + TfR -> Tf-Fe-TfR1;  Tf-Fe_in...\n",
       "TfR1 release                               Tf-Fe-TfR1 -> Tf-Fe_intercell + TfR;  Tf-Fe-TfR1\n",
       "HFE TfR2 binding                                     2 * HFE + TfR2 -> 2HFE-TfR2;  HFE TfR2\n",
       "HFE TfR2 release                                    2HFE-TfR2 -> 2 * HFE + TfR2;  2HFE-TfR2\n",
       "TfR2 binding                              Tf-Fe_intercell + TfR2 -> Tf-Fe-TfR2;  Tf-Fe_i...\n",
       "TfR2 release                              Tf-Fe-TfR2 -> Tf-Fe_intercell + TfR2;  Tf-Fe-TfR2\n",
       "TfR1 binding 2                            Tf-Fe-TfR1 + Tf-Fe_intercell -> 2(Tf-Fe)-TfR1;...\n",
       "TfR1 release 2                            2(Tf-Fe)-TfR1 -> Tf-Fe-TfR1 + Tf-Fe_intercell;...\n",
       "HFE TfR1 binding 2                                  HFE-TfR + HFE -> 2HFE-TfR;  HFE-TfR HFE\n",
       "HFE TfR1 release 2                                     2HFE-TfR -> HFE-TfR + HFE;  2HFE-TfR\n",
       "TfR2 binding 2                            Tf-Fe-TfR2 + Tf-Fe_intercell -> 2(Tf-Fe)-TfR2;...\n",
       "TfR2 release 2                            2(Tf-Fe)-TfR2 -> Tf-Fe-TfR2 + Tf-Fe_intercell;...\n",
       "TfR1 iron internalisation                    2(Tf-Fe)-TfR1 -> 4 * LIP + TfR;  2(Tf-Fe)-TfR1\n",
       "TfR2 iron internalisation                   2(Tf-Fe)-TfR2 -> 4 * LIP + TfR2;  2(Tf-Fe)-TfR2\n",
       "outFlow                                                                       LIP -> ;  LIP\n",
       "Ferritin Iron binding                                            LIP + FT -> Fe-FT;  LIP FT\n",
       "Ferritin Iron release                                             Fe-FT -> LIP + FT;  Fe-FT\n",
       "Ferritin Iron internalisation                                     Fe-FT -> FT1 + FT;  Fe-FT\n",
       "Ferritin internalised iron release                                      FT1 -> LIP;  FT1 FT\n",
       "ferritin expression                                                             -> FT;  IRP\n",
       "Ferritin Degredation Full                                                       FT -> ;  FT\n",
       "Ferritin Degredation Full Iron Release                                  FT1 -> LIP;  FT1 FT\n",
       "HFETfR degradation                                                  2HFE-TfR -> ;  2HFE-TfR\n",
       "HFETfR2 degradation                                               2HFE-TfR2 -> ;  2HFE-TfR2\n",
       "Heme uptake                                         Heme_intercell -> Heme;  Heme_intercell\n",
       "Heme export                                                   Heme -> Heme_intercell;  Heme\n",
       "HO1 exp                                                                      -> HO-1;  Heme\n",
       "HO1 Deg                                                                     HO-1 -> ;  HO-1\n",
       "Heme oxygenation                                                    Heme -> LIP;  HO-1 Heme\n",
       "Name: scheme, dtype: object"
      ]
     },
     "execution_count": 9,
     "metadata": {},
     "output_type": "execute_result"
    }
   ],
   "source": [
    "get_reactions(model=m)['scheme']"
   ]
  },
  {
   "cell_type": "code",
   "execution_count": null,
   "id": "1143c4aa-0e04-4161-af3f-ab4180730540",
   "metadata": {},
   "outputs": [],
   "source": []
  }
 ],
 "metadata": {
  "kernelspec": {
   "display_name": "Python 3 (ipykernel)",
   "language": "python",
   "name": "python3"
  },
  "language_info": {
   "codemirror_mode": {
    "name": "ipython",
    "version": 3
   },
   "file_extension": ".py",
   "mimetype": "text/x-python",
   "name": "python",
   "nbconvert_exporter": "python",
   "pygments_lexer": "ipython3",
   "version": "3.10.14"
  }
 },
 "nbformat": 4,
 "nbformat_minor": 5
}
